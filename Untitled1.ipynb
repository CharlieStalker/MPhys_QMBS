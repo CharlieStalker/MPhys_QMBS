{
 "cells": [
  {
   "cell_type": "code",
   "execution_count": 1,
   "id": "125c122b-ad5c-4af1-9f26-c076629b927c",
   "metadata": {},
   "outputs": [],
   "source": [
    "import numpy as np\n",
    "from quspin.operators import hamiltonian # Hamiltonians and operators\n",
    "from quspin.basis import spin_basis_1d # Hilbert space fermion basis\n",
    "from quspin.tools.block_tools import block_diag_hamiltonian # block diagonalisation\n",
    "import sys,os\n",
    "from matplotlib import pyplot as plt\n",
    "os.environ['KMP_DUPLICATE_LIB_OK']='True' # uncomment this line if omp error occurs on OSX for python 3\n",
    "os.environ['OMP_NUM_THREADS']='6' # set number of OpenMP threads to run in parallel\n",
    "os.environ['MKL_NUM_THREADS']='6' # set number of MKL threads to run in parallel\n",
    "os.environ['MKL_DEBUG_CPU_TYPE'] = '5'\n",
    "import scienceplots\n",
    "plt.style.use(['science','ieee'])\n",
    "plt.rcParams['text.usetex'] = True\n",
    "from scipy.stats import gaussian_kde\n",
    "import mpl_scatter_density # adds projection='scatter_density'\n",
    "from matplotlib.colors import LinearSegmentedColormap"
   ]
  },
  {
   "cell_type": "code",
   "execution_count": 70,
   "id": "8b6e4fce-7bdd-4fd4-bc5f-7db3d61fa8a6",
   "metadata": {},
   "outputs": [],
   "source": [
    "L = 18\n",
    "Ja=-9.3 # /2 Pi \n",
    "Je=-6.1\n",
    "jx = np.random.normal(size = L-3)*np.pi\n",
    "Omega=3*np.pi\n",
    "J_nn = 0.3\n",
    "basis = spin_basis_1d(L,Nup=int(L/2), pauli = 0)\n",
    "i_0 = basis.index('100110011001100110')"
   ]
  },
  {
   "cell_type": "code",
   "execution_count": 64,
   "id": "fc5d232d-5c9a-4692-a418-9659649f8c6f",
   "metadata": {},
   "outputs": [],
   "source": [
    "ja_hop_pm,je_hop_pm,ja_hop_mp,je_hop_mp,omega,j_nn = [],[],[],[],[],[]\n",
    "for i in range(L-1):\n",
    "    if i%2 == 0:\n",
    "        ja_hop_pm+=[[Ja,i,(i+1)]]\n",
    "        ja_hop_mp+=[[Ja,i,(i+1)]]\n",
    "    else:\n",
    "        je_hop_pm+=[[Je,i,(i+1)]]\n",
    "        je_hop_mp+=[[Je,i,(i+1)]]\n",
    "#Staircase potential\n",
    "for n in range(int(L/2)):\n",
    "    site = 2*n\n",
    "    omega_val =0.8*n\n",
    "    omega += [[omega_val,site,site],[omega_val,site-1,site-1]]\n",
    "    \n",
    "# next-next-nearest\n",
    "for i in range(L-3):\n",
    "    j_nn += [[J_nn,i,i+3]]\n",
    "#for i in range(L-3):\n",
    "    #jx_nn += [[jx[i]/2,i,i+2]]"
   ]
  },
  {
   "cell_type": "code",
   "execution_count": 65,
   "id": "2faffbaf-d27a-42d4-a6dd-3fd15a4dc146",
   "metadata": {},
   "outputs": [
    {
     "name": "stdout",
     "output_type": "stream",
     "text": [
      "Hermiticity check passed!\n",
      "Particle conservation check passed!\n"
     ]
    },
    {
     "name": "stderr",
     "output_type": "stream",
     "text": [
      "C:\\Users\\Charlie\\anaconda3\\lib\\site-packages\\ipykernel_launcher.py:3: UserWarning: Test for symmetries not implemented for <class 'quspin.basis.basis_1d.spin.spin_basis_1d'>, to turn off this warning set check_symm=False in hamiltonian\n",
      "  This is separate from the ipykernel package so we can avoid doing imports until\n"
     ]
    }
   ],
   "source": [
    "static = [['+-',ja_hop_pm],['-+',ja_hop_mp],['+-',je_hop_pm],['-+',je_hop_mp],['+-',omega],['+-',j_nn],['-+',j_nn]]\n",
    "dynamic = []\n",
    "H= hamiltonian(static,dynamic, basis=basis)"
   ]
  },
  {
   "cell_type": "code",
   "execution_count": 66,
   "id": "a7b2a260-5a62-49c2-837c-5a7a6009f8fb",
   "metadata": {},
   "outputs": [
    {
     "name": "stdout",
     "output_type": "stream",
     "text": [
      "Hermiticity check passed!\n",
      "Particle conservation check passed!\n"
     ]
    },
    {
     "name": "stderr",
     "output_type": "stream",
     "text": [
      "C:\\Users\\Charlie\\anaconda3\\lib\\site-packages\\ipykernel_launcher.py:8: UserWarning: Test for symmetries not implemented for <class 'quspin.basis.basis_1d.spin.spin_basis_1d'>, to turn off this warning set check_symm=False in hamiltonian\n",
      "  \n"
     ]
    }
   ],
   "source": [
    "S_n, S_nn = [],[]\n",
    "for i in range(L):\n",
    "    if (i+1)%4 not in [0,1]:\n",
    "        S_n += [[-1,i]]\n",
    "    else:\n",
    "        S_n += [[1,i]]\n",
    "static2 = [['z',S_n]]\n",
    "H_QFI = hamiltonian(static2,dynamic,basis=basis)"
   ]
  },
  {
   "cell_type": "code",
   "execution_count": 67,
   "id": "3b912ca0-8df1-46a5-ba92-9c8c632e758b",
   "metadata": {},
   "outputs": [],
   "source": [
    "psi_0 = np.zeros(basis.Ns)\n",
    "psi_0_thermal = np.zeros(basis.Ns)\n",
    "psi_0[i_0]=1\n",
    "psi_0_thermal[60]=1\n",
    "times = np.linspace(0,50,1000)\n",
    "psi_t = H.evolve(psi_0,times.min(),times)\n",
    "psi_t_thermal = H.evolve(psi_0_thermal,times.min(),times)"
   ]
  },
  {
   "cell_type": "code",
   "execution_count": 68,
   "id": "0ed69208-4565-4b37-a258-5cc4bd619061",
   "metadata": {},
   "outputs": [],
   "source": [
    "qfis = []\n",
    "qfis_t=[]\n",
    "for i in range(999):\n",
    "    qfis.append((4/L)*H_QFI.quant_fluct(psi_t[:,i]))\n",
    "    qfis_t.append((4/L)*H_QFI.quant_fluct(psi_t_thermal[:,i])) "
   ]
  },
  {
   "cell_type": "code",
   "execution_count": 69,
   "id": "c996bc77-cf99-4211-8ffa-bcc7869e2361",
   "metadata": {},
   "outputs": [
    {
     "name": "stdout",
     "output_type": "stream",
     "text": [
      "(1.2340298641298864+8.654042430490368e-20j)\n",
      "(1.012171735248128-4.341089378424241e-20j)\n"
     ]
    }
   ],
   "source": [
    "print(np.mean(qfis[100:]))\n",
    "print(np.mean(qfis_t[100:]))"
   ]
  },
  {
   "cell_type": "code",
   "execution_count": 71,
   "id": "880db7f4-887f-426c-9359-0463bd997b5f",
   "metadata": {},
   "outputs": [
    {
     "data": {
      "text/plain": [
       "(1.8962143834912824-3.881195118975841e-18j)"
      ]
     },
     "execution_count": 71,
     "metadata": {},
     "output_type": "execute_result"
    }
   ],
   "source": [
    "np.max(qfis)"
   ]
  },
  {
   "cell_type": "code",
   "execution_count": null,
   "id": "c8f85f3d-998e-4982-bce6-9226c8a291e4",
   "metadata": {},
   "outputs": [],
   "source": []
  }
 ],
 "metadata": {
  "kernelspec": {
   "display_name": "Python 3 (ipykernel)",
   "language": "python",
   "name": "python3"
  },
  "language_info": {
   "codemirror_mode": {
    "name": "ipython",
    "version": 3
   },
   "file_extension": ".py",
   "mimetype": "text/x-python",
   "name": "python",
   "nbconvert_exporter": "python",
   "pygments_lexer": "ipython3",
   "version": "3.7.11"
  }
 },
 "nbformat": 4,
 "nbformat_minor": 5
}
